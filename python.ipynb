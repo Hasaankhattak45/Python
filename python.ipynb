{
  "nbformat": 4,
  "nbformat_minor": 0,
  "metadata": {
    "colab": {
      "name": "python.ipynb",
      "provenance": [],
      "collapsed_sections": [],
      "toc_visible": true,
      "include_colab_link": true
    },
    "kernelspec": {
      "name": "python3",
      "display_name": "Python 3"
    },
    "language_info": {
      "name": "python"
    }
  },
  "cells": [
    {
      "cell_type": "markdown",
      "metadata": {
        "id": "view-in-github",
        "colab_type": "text"
      },
      "source": [
        "<a href=\"https://colab.research.google.com/github/Hasaankhattak45/Python/blob/main/python.ipynb\" target=\"_parent\"><img src=\"https://colab.research.google.com/assets/colab-badge.svg\" alt=\"Open In Colab\"/></a>"
      ]
    },
    {
      "cell_type": "markdown",
      "metadata": {
        "id": "-xvIc0xEtlv8"
      },
      "source": [
        "#**Introduction to Python for beginners**"
      ]
    },
    {
      "cell_type": "markdown",
      "metadata": {
        "id": "71x8NW62vJJb"
      },
      "source": [
        "##**1: What is programming language?**\n",
        "\n",
        "\n",
        "\n",
        "\n",
        "\n",
        "\n",
        "\n",
        "\n",
        "\n",
        "\n",
        "\n"
      ]
    },
    {
      "cell_type": "markdown",
      "metadata": {
        "id": "gKZC7Nxf_a36"
      },
      "source": [
        "\n",
        "A programming language defines a set of instructions that are compiled together to perform a specific task by the CPU (Central Processing Unit). The programming language mainly refers to high-level languages such as Python, Java, C, C++, Pascal, Ada, COBOL, etc.\n",
        "\n",
        "Each programming language contains a unique set of keywords and syntax, which are used to create a set of instructions. Thousands of programming languages have been developed till now, but each language has its specific purpose.Based on the levels of abstraction, they can be classified into two categories:\n",
        "\n",
        "1.   Low-level language\n",
        "2.   High-level language\n",
        "\n",
        "**Low-level language**\n",
        "\n",
        "The low-level language is a programming language that provides no abstraction from the hardware, and it is represented in 0 or 1 forms, which are the machine instructions. The languages that come under this category are the Machine level language and Assembly language.\n",
        "\n",
        "**High-Level Language**\n",
        "\n",
        "The high-level language is a programming language that allows a programmer to write the programs which are independent of a particular type of computer. The high-level languages are considered as high-level because they are closer to human languages than machine-level languages.\n",
        "A compiler is required to translate a high-level language into a low-level language.\n",
        "\n",
        "\n",
        "> **Advantages of a high-level language**\n",
        "> 1.   The high-level language is easy to read, write, and maintain as it is written in English like words.\n",
        "2.   The high-level languages are designed to overcome the limitation of low-level language, i.e., portability. The high-level language is portable; i.e., these languages are machine-independent.\n",
        "\n",
        "\n",
        "\n",
        "\n",
        "\n",
        "\n",
        "\n",
        "\n",
        "\n",
        "\n",
        "\n"
      ]
    },
    {
      "cell_type": "markdown",
      "metadata": {
        "id": "p7A7iyfIvcty"
      },
      "source": [
        "##**2: What is python?**\n",
        "Python is an [interpreted](https://towardsdatascience.com/how-does-python-work-6f21fd197888), high-level, general-purpose programming language. It is is dynamically typed and garbage-collected.\n"
      ]
    },
    {
      "cell_type": "markdown",
      "metadata": {
        "id": "VYc3Ao9Avh8i"
      },
      "source": [
        "##**3: Python Environment setting (installation)**"
      ]
    },
    {
      "cell_type": "markdown",
      "metadata": {
        "id": "xvtsDiShVXNy"
      },
      "source": [
        "**Running on your computer locally**\n",
        "\n",
        "To run the code on your computer locally, you'll need to set up [Python](https://www.python.org), download the notebook and install the required libraries. We recommend using the [Conda](https://docs.conda.io/projects/conda/en/latest/user-guide/install/) distribution of Python. Click the **Run** button at the top of this page, select the **Run Locally** option, and follow the instructions.\n",
        "\n",
        ">  **Jupyter Notebooks**: This tutorial is a [Jupyter notebook](https://jupyter.org) - a document made of _cells_. Each cell can contain code written in Python or explanations in plain English. You can execute code cells and view the results, e.g., numbers, messages, graphs, tables, files, etc. instantly within the notebook. Jupyter is a powerful platform for experimentation and analysis. Don't be afraid to mess around with the code & break things - you'll learn a lot by encountering and fixing errors. You can use the \"Kernel > Restart & Clear Output\" menu option to clear all outputs and start again from the top."
      ]
    },
    {
      "cell_type": "markdown",
      "metadata": {
        "id": "N4FAeTVqefkX"
      },
      "source": [
        "##**4: Basics of Python**"
      ]
    },
    {
      "cell_type": "markdown",
      "metadata": {
        "id": "ZZYU_yJnvt_H"
      },
      "source": [
        "**4.1: Comments in python**\n",
        " \n",
        "> Comments and blank lines are ignored during execution, but they are useful for providing information to humans (including yourself) about what the code does. Comments can be inline (at the end of some code), on a separate line, or even span multiple lines. \n",
        "\n",
        "Inline and single-line comments start with `#`, whereas multi-line comments begin and end with three quotes, i.e. `\"\"\"`. Here are some examples of code comments:"
      ]
    },
    {
      "cell_type": "code",
      "metadata": {
        "id": "lCgOgN5Uae4k"
      },
      "source": [
        "salary = 10000 # an inline comment"
      ],
      "execution_count": null,
      "outputs": []
    },
    {
      "cell_type": "code",
      "metadata": {
        "id": "_MCUQBqDaelm"
      },
      "source": [
        "# This comment gets its own line\n",
        "salary = 10000"
      ],
      "execution_count": null,
      "outputs": []
    },
    {
      "cell_type": "code",
      "metadata": {
        "id": "Z7M63QGMayQZ"
      },
      "source": [
        "\"\"\"This is a multi-line comment.\n",
        "Write as little or as much as you'd like.\n",
        "\n",
        "Comments are really helpful for people reading\n",
        "your code, but try to keep them short & to-the-point.\n",
        "\n",
        "Also, if you use good variable names, then your code is\n",
        "often self explanatory, and you may not even need comments!\n",
        "\"\"\"\n",
        "salary = 10000"
      ],
      "execution_count": null,
      "outputs": []
    },
    {
      "cell_type": "markdown",
      "metadata": {
        "id": "lU2HQPp5eqiI"
      },
      "source": [
        "**4.2: Arithmetic Operations using Python**\n",
        "\n",
        "> Using Python as a calculator. You can write and execute Python using a code cell within Jupyter. \n",
        "\n",
        "> **Working with cells**: To create a new cell within Jupyter, you can select \"Insert > Insert Cell Below\" from the menu bar or just press the \"+\" button on the toolbar. You can also use the keyboard shortcut `Esc+B` to create a new cell. Once a cell is created, click on it to select it. You can then change the cell type to code or markdown (text) using the \"Cell > Cell Type\" menu option. You can also use the keyboard shortcuts `Esc+Y` and `Esc+M`. Double-click a cell to edit the content within the cell. To apply your changes and run a cell, use the \"Cell > Run Cells\" menu option or click the \"Run\" button on the toolbar or just use the keyboard shortcut `Shift+Enter`. You can see a full list of keyboard shortcuts using the \"Help > Keyboard Shortcuts\" menu option.\n",
        "\n",
        "Run the code cells below to perform calculations and view their result. Try changing the numbers and run the modified cells again to see updated results. Can you guess what the `//`, `%`, and `**` operators are used for?"
      ]
    },
    {
      "cell_type": "code",
      "metadata": {
        "id": "-ip8cQqCXcEr"
      },
      "source": [
        "3+9+3"
      ],
      "execution_count": null,
      "outputs": []
    },
    {
      "cell_type": "code",
      "metadata": {
        "id": "kJwU1-WNXb2g"
      },
      "source": [
        "10-5"
      ],
      "execution_count": null,
      "outputs": []
    },
    {
      "cell_type": "code",
      "metadata": {
        "id": "Fq-yOkd0XbYf"
      },
      "source": [
        "5/2"
      ],
      "execution_count": null,
      "outputs": []
    },
    {
      "cell_type": "code",
      "metadata": {
        "id": "9DldKrdDXFeb"
      },
      "source": [
        "5//2"
      ],
      "execution_count": null,
      "outputs": []
    },
    {
      "cell_type": "code",
      "metadata": {
        "id": "wlaLlbgYXznI"
      },
      "source": [
        "11 % 2"
      ],
      "execution_count": null,
      "outputs": []
    },
    {
      "cell_type": "code",
      "metadata": {
        "id": "Vb63DwkFY5Rk"
      },
      "source": [
        "2 ** 3"
      ],
      "execution_count": null,
      "outputs": []
    },
    {
      "cell_type": "code",
      "metadata": {
        "id": "76wmHdgUZApe"
      },
      "source": [
        "20.50 * -2"
      ],
      "execution_count": null,
      "outputs": []
    },
    {
      "cell_type": "markdown",
      "metadata": {
        "id": "IZ-HOUtUhOfu"
      },
      "source": [
        "**4.3: Evaluating conditions using Python**\n",
        "\n",
        "Apart from arithmetic operations, Python also provides several operations for comparing numbers & variables.\n",
        "\n",
        "| Operator    | Description                                                     |\n",
        "|-------------|-----------------------------------------------------------------|\n",
        "| `==`        | Check if operands are equal                                     |\n",
        "| `!=`        | Check if operands are not equal                                 |\n",
        "| `>`         | Check if left operand is greater than right operand             |\n",
        "| `<`         | Check if left operand is less than right operand                |\n",
        "| `>=`        | Check if left operand is greater than or equal to right operand |\n",
        "| `<=`        | Check if left operand is less than or equal to right operand    |\n",
        "\n",
        "The result of a comparison operation is either `True` or `False` (note the uppercase `T` and `F`)."
      ]
    },
    {
      "cell_type": "code",
      "metadata": {
        "id": "gUZoibC-hqpU"
      },
      "source": [
        "fida_age = 30\n",
        "hassan_age = 24\n",
        "khan_age = 50"
      ],
      "execution_count": null,
      "outputs": []
    },
    {
      "cell_type": "code",
      "metadata": {
        "id": "_D0S9_GkiSmY"
      },
      "source": [
        "# Equality check - True\n",
        "fida_age == 30"
      ],
      "execution_count": null,
      "outputs": []
    },
    {
      "cell_type": "code",
      "metadata": {
        "id": "LnbJkBjXidQg"
      },
      "source": [
        "# Equality check - False\n",
        "fida_age == hassan_age"
      ],
      "execution_count": null,
      "outputs": []
    },
    {
      "cell_type": "code",
      "metadata": {
        "id": "9Eqt52HUidHe"
      },
      "source": [
        "# Not equal check - True\n",
        "fida_age != hassan_age"
      ],
      "execution_count": null,
      "outputs": []
    },
    {
      "cell_type": "code",
      "metadata": {
        "id": "YGOaIpgqic0N"
      },
      "source": [
        "# Not equal check - False\n",
        "hassan_age != 24"
      ],
      "execution_count": null,
      "outputs": []
    },
    {
      "cell_type": "code",
      "metadata": {
        "id": "7YpWJEeUjBon"
      },
      "source": [
        "# Greater than check - True\n",
        "fida_age > hassan_age"
      ],
      "execution_count": null,
      "outputs": []
    },
    {
      "cell_type": "code",
      "metadata": {
        "id": "gY5v28Z0jLcD"
      },
      "source": [
        "# Greater than check - False\n",
        "fida_age > khan_age"
      ],
      "execution_count": null,
      "outputs": []
    },
    {
      "cell_type": "code",
      "metadata": {
        "id": "3TabQ8mojLWN"
      },
      "source": [
        "# Less than check - True\n",
        "fida_age < 100"
      ],
      "execution_count": null,
      "outputs": []
    },
    {
      "cell_type": "code",
      "metadata": {
        "id": "nU9MC4aGjLVh"
      },
      "source": [
        "# Greater than or equal check - True\n",
        "fida_age >= 19"
      ],
      "execution_count": null,
      "outputs": []
    },
    {
      "cell_type": "code",
      "metadata": {
        "id": "rBkUxAvmjmbY"
      },
      "source": [
        "# Less than or equal check - True\n",
        "4 + 5 <= 9"
      ],
      "execution_count": null,
      "outputs": []
    },
    {
      "cell_type": "code",
      "metadata": {
        "id": "PxxOvrqkjmH2"
      },
      "source": [
        "# Less than or equal check - False\n",
        "fida_age + hassan_age <= 3"
      ],
      "execution_count": null,
      "outputs": []
    },
    {
      "cell_type": "markdown",
      "metadata": {
        "id": "k3P81C_Dj_nQ"
      },
      "source": [
        "**4.4: Combining conditions with logical operators**\n",
        "\n",
        "The logical operators `and`, `or` and `not` operate upon conditions and `True` & `False` values (also known as *booleans*). `and` and `or` operate on two conditions, whereas `not` operates on a single condition.\n",
        "\n",
        "\n",
        "\n",
        "1.   **\"and\" operator**\n",
        "\n",
        "\n",
        ">The `and` operator returns `True` when both the conditions evaluate to `True`. Otherwise, it returns `False`.\n",
        "\n",
        "| `a`     | `b`    | `a and b` |\n",
        "|---------|--------|-----------|\n",
        "|  `True` | `True` | `True`    |\n",
        "|  `True` | `False`| `False`   |\n",
        "|  `False`| `True` | `False`   |\n",
        "|  `False`| `False`| `False`   |"
      ]
    },
    {
      "cell_type": "code",
      "metadata": {
        "id": "7fMMTMMRkV1W"
      },
      "source": [
        "fida_age > 0 and hassan_age >= 3"
      ],
      "execution_count": null,
      "outputs": []
    },
    {
      "cell_type": "code",
      "metadata": {
        "id": "Aoi9wbFTkaUY"
      },
      "source": [
        "fida_age > 100 and hassan_age >= 3"
      ],
      "execution_count": null,
      "outputs": []
    },
    {
      "cell_type": "code",
      "metadata": {
        "id": "eH8ttlfEkgcf"
      },
      "source": [
        "True and False"
      ],
      "execution_count": null,
      "outputs": []
    },
    {
      "cell_type": "code",
      "metadata": {
        "id": "GgxXfCKckgRR"
      },
      "source": [
        "True and True"
      ],
      "execution_count": null,
      "outputs": []
    },
    {
      "cell_type": "markdown",
      "metadata": {
        "id": "o-TwF3lkkpXK"
      },
      "source": [
        "\n",
        "2.   **\"or operator\"**\n",
        "\n",
        "\n",
        "\n",
        ">The `or` operator returns `True` if at least one of the conditions evaluates to `True`. It returns `False` only if both conditions are `False`.\n",
        "\n",
        "| `a`     | `b`    | `a or b`  |\n",
        "|---------|--------|-----------|\n",
        "|  `True` | `True` | `True`    |\n",
        "|  `True` | `False`| `True`    |\n",
        "|  `False`| `True` | `True`    |\n",
        "|  `False`| `False`| `False`   |\n",
        "\n"
      ]
    },
    {
      "cell_type": "code",
      "metadata": {
        "id": "wPqfNNMClUkr"
      },
      "source": [
        "fida_age == 21 or hassan_age < 18"
      ],
      "execution_count": null,
      "outputs": []
    },
    {
      "cell_type": "code",
      "metadata": {
        "id": "xYOxDe6alUaL"
      },
      "source": [
        "fida_age >= 3 or fida_age <= 32"
      ],
      "execution_count": null,
      "outputs": []
    },
    {
      "cell_type": "code",
      "metadata": {
        "id": "AMsgDX7PlULj"
      },
      "source": [
        "False or False"
      ],
      "execution_count": null,
      "outputs": []
    },
    {
      "cell_type": "markdown",
      "metadata": {
        "id": "RjnNPfKNl1Ad"
      },
      "source": [
        "\n",
        "\n",
        "3.   **\"not\" operator**\n",
        "\n",
        ">The `not` operator returns `False` if a condition is `True` and `True` if the condition is `False`.\n",
        "\n"
      ]
    },
    {
      "cell_type": "code",
      "metadata": {
        "id": "92fx6TcimACg"
      },
      "source": [
        "not fida_age == 30"
      ],
      "execution_count": null,
      "outputs": []
    },
    {
      "cell_type": "code",
      "metadata": {
        "id": "tiMq0hZdmFJy"
      },
      "source": [
        "not hassan_age >=29"
      ],
      "execution_count": null,
      "outputs": []
    },
    {
      "cell_type": "code",
      "metadata": {
        "id": "xzhzzZ0GmLQp"
      },
      "source": [
        "not False"
      ],
      "execution_count": null,
      "outputs": []
    },
    {
      "cell_type": "code",
      "metadata": {
        "id": "an3wpnAwmLOT"
      },
      "source": [
        "not True"
      ],
      "execution_count": null,
      "outputs": []
    },
    {
      "cell_type": "markdown",
      "metadata": {
        "id": "s4rJabMVNrc8"
      },
      "source": [
        "##**What is variables in python**"
      ]
    },
    {
      "cell_type": "markdown",
      "metadata": {
        "id": "hWE4_1mIN4VB"
      },
      "source": [
        "data value can be store in temporary storage space called variable "
      ]
    },
    {
      "cell_type": "markdown",
      "metadata": {
        "id": "LWORcnWTOvUO"
      },
      "source": [
        "lets store some value (hasaan) in variable "
      ]
    },
    {
      "cell_type": "code",
      "metadata": {
        "colab": {
          "base_uri": "https://localhost:8080/",
          "height": 35
        },
        "id": "6HeMZynqOG5z",
        "outputId": "86fde0eb-0655-4fa3-c460-0c796b86b15b"
      },
      "source": [
        "name = \"Hasaan\" \n",
        "name "
      ],
      "execution_count": null,
      "outputs": [
        {
          "output_type": "execute_result",
          "data": {
            "application/vnd.google.colaboratory.intrinsic+json": {
              "type": "string"
            },
            "text/plain": [
              "'Hasaan'"
            ]
          },
          "metadata": {
            "tags": []
          },
          "execution_count": 7
        }
      ]
    },
    {
      "cell_type": "code",
      "metadata": {
        "colab": {
          "base_uri": "https://localhost:8080/",
          "height": 35
        },
        "id": "7qQyEEGnO4Ju",
        "outputId": "07372bbd-8dfb-4a79-aacd-05a8917e2e10"
      },
      "source": [
        "name = \"fide\" \n",
        "name\n"
      ],
      "execution_count": null,
      "outputs": [
        {
          "output_type": "execute_result",
          "data": {
            "application/vnd.google.colaboratory.intrinsic+json": {
              "type": "string"
            },
            "text/plain": [
              "'fide'"
            ]
          },
          "metadata": {
            "tags": []
          },
          "execution_count": 9
        }
      ]
    },
    {
      "cell_type": "markdown",
      "metadata": {
        "id": "njxPdZ8Lv0DD"
      },
      "source": [
        "##**Data types in python**"
      ]
    },
    {
      "cell_type": "markdown",
      "metadata": {
        "id": "uuOTI5ppPG2d"
      },
      "source": [
        "Every variable is associated with variable "
      ]
    },
    {
      "cell_type": "markdown",
      "metadata": {
        "id": "WMjEYD2dLwrB"
      },
      "source": [
        "**Built-in Data Types**\n",
        "\n",
        "In programming, data type is an important concept.\n",
        "\n",
        "Variables can store data of different types, and different types can do different things.\n",
        "\n",
        "Python has the following data types built-in by default, in these categories:"
      ]
    },
    {
      "cell_type": "markdown",
      "metadata": {
        "id": "mxgmVbijMAIs"
      },
      "source": [
        "![image.png](data:image/png;base64,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)"
      ]
    },
    {
      "cell_type": "markdown",
      "metadata": {
        "id": "Cm3j7c_qMLZ0"
      },
      "source": [
        "####**Example**"
      ]
    },
    {
      "cell_type": "markdown",
      "metadata": {
        "id": "kGzmHnPLMPSt"
      },
      "source": [
        "Print the data type of the variable x:"
      ]
    },
    {
      "cell_type": "code",
      "metadata": {
        "colab": {
          "base_uri": "https://localhost:8080/"
        },
        "id": "1sjG7IayMRp3",
        "outputId": "d8c2f7e2-251c-4163-c8ff-af271bdddb39"
      },
      "source": [
        "x = 5\n",
        "print(type(x))"
      ],
      "execution_count": null,
      "outputs": [
        {
          "output_type": "stream",
          "text": [
            "<class 'int'>\n"
          ],
          "name": "stdout"
        }
      ]
    },
    {
      "cell_type": "markdown",
      "metadata": {
        "id": "oxd7HNU0NElC"
      },
      "source": [
        "##**Basic Operators in Python**"
      ]
    },
    {
      "cell_type": "markdown",
      "metadata": {
        "id": "yuFc3o_4Ngzh"
      },
      "source": [
        "####**Arithmetic Operations**"
      ]
    },
    {
      "cell_type": "markdown",
      "metadata": {
        "id": "Ye4c_CHtNuHK"
      },
      "source": [
        "####**Relational Operation**"
      ]
    },
    {
      "cell_type": "markdown",
      "metadata": {
        "id": "0JTYxRZdNyiJ"
      },
      "source": [
        "####**Logical Operation**"
      ]
    },
    {
      "cell_type": "markdown",
      "metadata": {
        "id": "4RXqRvkROCHB"
      },
      "source": [
        "##**Python Tokens**"
      ]
    },
    {
      "cell_type": "markdown",
      "metadata": {
        "id": "PIygXpirOP7l"
      },
      "source": [
        "####**Keywords**"
      ]
    },
    {
      "cell_type": "markdown",
      "metadata": {
        "id": "H17GwvT_OSrh"
      },
      "source": [
        "####**Identifers**"
      ]
    },
    {
      "cell_type": "markdown",
      "metadata": {
        "id": "kLuJct6sOWeP"
      },
      "source": [
        "####**Literals**"
      ]
    },
    {
      "cell_type": "markdown",
      "metadata": {
        "id": "y7-rMtm8sEcN"
      },
      "source": [
        "####**Operators**"
      ]
    },
    {
      "cell_type": "markdown",
      "metadata": {
        "id": "bpliVgA1PPJH"
      },
      "source": [
        "##**Data structure in python**"
      ]
    },
    {
      "cell_type": "markdown",
      "metadata": {
        "id": "X03JrNUcv5IH"
      },
      "source": [
        "####**01-List**"
      ]
    },
    {
      "cell_type": "markdown",
      "metadata": {
        "id": "ktfBLsd8vsoH"
      },
      "source": [
        "List is an order collection of an elements Lists are created using square brackets:  and List are changeable"
      ]
    },
    {
      "cell_type": "markdown",
      "metadata": {
        "id": "XRLjlvHcGXsA"
      },
      "source": [
        "**Example**"
      ]
    },
    {
      "cell_type": "code",
      "metadata": {
        "colab": {
          "base_uri": "https://localhost:8080/",
          "height": 214
        },
        "id": "6FCAPPOTGZIE",
        "outputId": "8eb391f5-9da5-4d7e-925f-96689be8a220"
      },
      "source": [
        "#here we store some values in list \n",
        "list = [\"apple\", 10, True]\n",
        "# print such value \n",
        "list\n",
        "#when extract any particalar value from list \n",
        "list[0] \n",
        "#list [1]\n",
        "#list [3]\n",
        "\n",
        "# to change some value in list \n",
        "list[0] = hasaan \n",
        "list "
      ],
      "execution_count": null,
      "outputs": [
        {
          "output_type": "error",
          "ename": "IndexError",
          "evalue": "ignored",
          "traceback": [
            "\u001b[0;31m---------------------------------------------------------------------------\u001b[0m",
            "\u001b[0;31mIndexError\u001b[0m                                Traceback (most recent call last)",
            "\u001b[0;32m<ipython-input-6-43b785802618>\u001b[0m in \u001b[0;36m<module>\u001b[0;34m()\u001b[0m\n\u001b[1;32m      6\u001b[0m \u001b[0mlist\u001b[0m\u001b[0;34m[\u001b[0m\u001b[0;36m0\u001b[0m\u001b[0;34m]\u001b[0m\u001b[0;34m\u001b[0m\u001b[0;34m\u001b[0m\u001b[0m\n\u001b[1;32m      7\u001b[0m \u001b[0mlist\u001b[0m \u001b[0;34m[\u001b[0m\u001b[0;36m1\u001b[0m\u001b[0;34m]\u001b[0m\u001b[0;34m\u001b[0m\u001b[0;34m\u001b[0m\u001b[0m\n\u001b[0;32m----> 8\u001b[0;31m \u001b[0mlist\u001b[0m \u001b[0;34m[\u001b[0m\u001b[0;36m3\u001b[0m\u001b[0;34m]\u001b[0m\u001b[0;34m\u001b[0m\u001b[0;34m\u001b[0m\u001b[0m\n\u001b[0m\u001b[1;32m      9\u001b[0m \u001b[0mlist\u001b[0m\u001b[0;34m\u001b[0m\u001b[0;34m\u001b[0m\u001b[0m\n",
            "\u001b[0;31mIndexError\u001b[0m: list index out of range"
          ]
        }
      ]
    },
    {
      "cell_type": "markdown",
      "metadata": {
        "id": "gVq6TLNzsqnv"
      },
      "source": [
        "####**02-Tuple** "
      ]
    },
    {
      "cell_type": "markdown",
      "metadata": {
        "id": "1N0N76M2tPS8"
      },
      "source": [
        "Tuples are used to store multiple items in a single variable. A tuple is a collection which is ordered and **unchangeable.**\n",
        "\n",
        "Tuples are written with round brackets.()"
      ]
    },
    {
      "cell_type": "markdown",
      "metadata": {
        "id": "V1bDxMUWti0k"
      },
      "source": [
        "**Example**"
      ]
    },
    {
      "cell_type": "code",
      "metadata": {
        "colab": {
          "base_uri": "https://localhost:8080/",
          "height": 214
        },
        "id": "QTmXjzzGtoab",
        "outputId": "2b0e09d7-eb57-4e49-fea2-1d6f3f7a7d49"
      },
      "source": [
        "tup1 = (\"apple\", 10, True)\n",
        "#print(tup1)\n",
        "\n",
        "\n",
        "#Extracting different value from the tuple \n",
        "#tup1[1]\n",
        "\n",
        "# Now lets see that can we change the value inside tuple \n",
        "tup1[1] = 100\n",
        "tup1 \n",
        "\n",
        "# TypeError: 'tuple' object does not support item assignment\n",
        "# its means that we can not change any thing inside tuple"
      ],
      "execution_count": null,
      "outputs": [
        {
          "output_type": "error",
          "ename": "TypeError",
          "evalue": "ignored",
          "traceback": [
            "\u001b[0;31m---------------------------------------------------------------------------\u001b[0m",
            "\u001b[0;31mTypeError\u001b[0m                                 Traceback (most recent call last)",
            "\u001b[0;32m<ipython-input-7-ee17606715a7>\u001b[0m in \u001b[0;36m<module>\u001b[0;34m()\u001b[0m\n\u001b[1;32m      7\u001b[0m \u001b[0;34m\u001b[0m\u001b[0m\n\u001b[1;32m      8\u001b[0m \u001b[0;31m# Now lets see that can we change the value inside tuple\u001b[0m\u001b[0;34m\u001b[0m\u001b[0;34m\u001b[0m\u001b[0;34m\u001b[0m\u001b[0m\n\u001b[0;32m----> 9\u001b[0;31m \u001b[0mtup1\u001b[0m\u001b[0;34m[\u001b[0m\u001b[0;36m1\u001b[0m\u001b[0;34m]\u001b[0m \u001b[0;34m=\u001b[0m \u001b[0;36m100\u001b[0m\u001b[0;34m\u001b[0m\u001b[0;34m\u001b[0m\u001b[0m\n\u001b[0m\u001b[1;32m     10\u001b[0m \u001b[0mtup1\u001b[0m\u001b[0;34m\u001b[0m\u001b[0;34m\u001b[0m\u001b[0m\n",
            "\u001b[0;31mTypeError\u001b[0m: 'tuple' object does not support item assignment"
          ]
        }
      ]
    },
    {
      "cell_type": "markdown",
      "metadata": {
        "id": "U7VTeAFks2mt"
      },
      "source": [
        "####**03-dictionary**"
      ]
    },
    {
      "cell_type": "markdown",
      "metadata": {
        "id": "5VafDLTYISa3"
      },
      "source": [
        "Dictionaries are used to store data values in key:value pairs.\n",
        "\n",
        "A dictionary is a collection which is ordered*, changeable and does not allow duplicates."
      ]
    },
    {
      "cell_type": "markdown",
      "metadata": {
        "id": "R-uch30RLiXu"
      },
      "source": [
        "**Example**"
      ]
    },
    {
      "cell_type": "code",
      "metadata": {
        "colab": {
          "base_uri": "https://localhost:8080/"
        },
        "id": "-40AwBz0Ircr",
        "outputId": "7e85f80c-f332-4094-85ce-44e779cf6999"
      },
      "source": [
        "# store some value in dictionary\n",
        "dic = {\"mango\": 40, \"orange\": 10, \"apple\" : 20}\n",
        "#dic\n",
        "\n",
        "#if access only values of dictionary \n",
        "#dic.values()\n",
        "\n",
        "#if access only key of dictionary \n",
        "dic.keys()\n",
        "\n",
        "#we can also change some value in dicttionary \n",
        "dic[\"mango\"] = 50\n"
      ],
      "execution_count": null,
      "outputs": [
        {
          "output_type": "execute_result",
          "data": {
            "text/plain": [
              "dict_keys(['mango', 'orange', 'apple'])"
            ]
          },
          "metadata": {
            "tags": []
          },
          "execution_count": 11
        }
      ]
    },
    {
      "cell_type": "markdown",
      "metadata": {
        "id": "JbcVG3Rts8bW"
      },
      "source": [
        "####**04-Set**"
      ]
    },
    {
      "cell_type": "markdown",
      "metadata": {
        "id": "L-MrJzQSLQ9h"
      },
      "source": [
        "Sets are used to store multiple items in a single variable.  A set is a collection which is both unordered and unindexed.\n",
        "\n",
        "Sets are written with curly brackets."
      ]
    },
    {
      "cell_type": "markdown",
      "metadata": {
        "id": "5ig2OFAtLk_n"
      },
      "source": [
        "**Example**"
      ]
    },
    {
      "cell_type": "code",
      "metadata": {
        "colab": {
          "base_uri": "https://localhost:8080/"
        },
        "id": "5uzgxyplLmsl",
        "outputId": "ad4650bd-3351-425e-8654-0e6ad64d0c18"
      },
      "source": [
        "s1 = {\"fida\" , 10 , 5.4}\n",
        "s1\n",
        "\n",
        "#Duplicates Not Allowed\n",
        "#Sets cannot have two items with the same value.\n",
        "s1 = {\"apple\", \"banana\", \"cherry\", \"apple\"}\n",
        "s1\n",
        "\n",
        "#add new value \n",
        "s1.add(\"hello\")\n",
        "s1"
      ],
      "execution_count": null,
      "outputs": [
        {
          "output_type": "execute_result",
          "data": {
            "text/plain": [
              "{10, 5.4, 'fida'}"
            ]
          },
          "metadata": {
            "tags": []
          },
          "execution_count": 12
        }
      ]
    },
    {
      "cell_type": "markdown",
      "metadata": {
        "id": "uC89Fgjfv9Jm"
      },
      "source": [
        "##**Python Conditions and If statements**"
      ]
    },
    {
      "cell_type": "markdown",
      "metadata": {
        "id": "hb7ov-VUM42-"
      },
      "source": [
        "Python supports the usual logical conditions from mathematics:\n",
        "\n",
        "\n",
        "*   Equals: a == b\n",
        "*   Not Equals: a != b\n",
        "*  Less than: a < b\n",
        "*   Less than or equal to: a <= b\n",
        "*   Greater than: a > b\n",
        "*   Greater than or equal to: a >= b\n",
        "\n",
        "\n",
        "\n",
        "\n",
        "\n",
        "\n",
        "\n",
        "\n",
        "\n",
        "\n"
      ]
    },
    {
      "cell_type": "markdown",
      "metadata": {
        "id": "gqchakDsNq_u"
      },
      "source": [
        "#####**Example**"
      ]
    },
    {
      "cell_type": "code",
      "metadata": {
        "colab": {
          "base_uri": "https://localhost:8080/"
        },
        "id": "t0_513i0Npzm",
        "outputId": "9012e887-a42c-4d59-a6fb-020a687d4b6b"
      },
      "source": [
        "a = 33\n",
        "b = 200\n",
        "if b > a:\n",
        "  print(\"b is greater than a\")"
      ],
      "execution_count": null,
      "outputs": [
        {
          "output_type": "stream",
          "text": [
            "b is greater than a\n"
          ],
          "name": "stdout"
        }
      ]
    },
    {
      "cell_type": "code",
      "metadata": {
        "colab": {
          "base_uri": "https://localhost:8080/"
        },
        "id": "IIBM6Vs9OYM3",
        "outputId": "33d3d6e0-a1ca-49df-b0d0-83462aba6d01"
      },
      "source": [
        "a = 33\n",
        "b = 3\n",
        "if b > a:\n",
        "  print(\"b is greater than a\")\n",
        "elif a > b:\n",
        "  print(\"a and b are equal\")"
      ],
      "execution_count": null,
      "outputs": [
        {
          "output_type": "stream",
          "text": [
            "a and b are equal\n"
          ],
          "name": "stdout"
        }
      ]
    },
    {
      "cell_type": "code",
      "metadata": {
        "colab": {
          "base_uri": "https://localhost:8080/"
        },
        "id": "XMrlt1qzOseb",
        "outputId": "cb9d8460-6879-4e4c-fdc7-c2e34aa8f50b"
      },
      "source": [
        "a = 10\n",
        "b = 20 \n",
        "c = 30\n",
        "\n",
        "if (a>b) & (a>c):\n",
        "  print(\"A is greater\")\n",
        "elif (b>a) & (b>c):\n",
        " print(\"B is greater \")\n",
        "else:\n",
        " print(\"C is Greater\")\n",
        "  "
      ],
      "execution_count": null,
      "outputs": [
        {
          "output_type": "stream",
          "text": [
            "C is Greater\n"
          ],
          "name": "stdout"
        }
      ]
    },
    {
      "cell_type": "markdown",
      "metadata": {
        "id": "XW3VGaIiwBIi"
      },
      "source": [
        "##**Loops statments**"
      ]
    },
    {
      "cell_type": "markdown",
      "metadata": {
        "id": "Sx7j2Ye-RRD4"
      },
      "source": [
        "looping statments are used to repeate task multile times "
      ]
    },
    {
      "cell_type": "markdown",
      "metadata": {
        "id": "hCchlgP5RsDw"
      },
      "source": [
        "Their are two types of looping sattments \n",
        "\n",
        "\n",
        "1.  For loop \n",
        "2.  while loop\n",
        "\n"
      ]
    },
    {
      "cell_type": "markdown",
      "metadata": {
        "id": "cqKxmfq0PvIe"
      },
      "source": [
        "#####**For loop**"
      ]
    },
    {
      "cell_type": "markdown",
      "metadata": {
        "id": "RmodjNcTPzTZ"
      },
      "source": [
        "#####**While loop**"
      ]
    },
    {
      "cell_type": "markdown",
      "metadata": {
        "id": "ls2NtL0sSlQA"
      },
      "source": [
        "**Example**"
      ]
    },
    {
      "cell_type": "code",
      "metadata": {
        "colab": {
          "base_uri": "https://localhost:8080/"
        },
        "id": "itYQp5gJSmdM",
        "outputId": "ce3dea45-b5ac-4584-fe54-549a57ec8da2"
      },
      "source": [
        "i = 1 \n",
        "while (i<= 10):\n",
        "  print(i)\n",
        "  i = i+1"
      ],
      "execution_count": null,
      "outputs": [
        {
          "output_type": "stream",
          "text": [
            "1\n",
            "2\n",
            "3\n",
            "4\n",
            "5\n",
            "6\n",
            "7\n",
            "8\n",
            "9\n",
            "10\n"
          ],
          "name": "stdout"
        }
      ]
    },
    {
      "cell_type": "code",
      "metadata": {
        "id": "3_mMiYBUTim2",
        "colab": {
          "base_uri": "https://localhost:8080/"
        },
        "outputId": "780c1dd1-b83f-425d-ce9d-834e870ba398"
      },
      "source": [
        "fruits = [\"apple\", \"banana\", \"cherry\"]\n",
        "for x in fruits:\n",
        "  print(x)"
      ],
      "execution_count": null,
      "outputs": [
        {
          "output_type": "stream",
          "text": [
            "apple\n",
            "banana\n",
            "cherry\n"
          ],
          "name": "stdout"
        }
      ]
    },
    {
      "cell_type": "markdown",
      "metadata": {
        "id": "yUE7mM93P-ir"
      },
      "source": [
        "##**User input statments in python**"
      ]
    },
    {
      "cell_type": "markdown",
      "metadata": {
        "id": "6IfXjJqIwEvK"
      },
      "source": [
        "##**Function in Python**"
      ]
    },
    {
      "cell_type": "markdown",
      "metadata": {
        "id": "xC_PXfeHQ4EE"
      },
      "source": [
        "##**Lambda in Python**"
      ]
    },
    {
      "cell_type": "markdown",
      "metadata": {
        "id": "CygKLc6vQ99M"
      },
      "source": [
        "##**Iterators And Generators**"
      ]
    },
    {
      "cell_type": "markdown",
      "metadata": {
        "id": "c1AamEjORGFc"
      },
      "source": [
        "##**Exceptional handling & Import Libraries**"
      ]
    },
    {
      "cell_type": "markdown",
      "metadata": {
        "id": "gqEyJiknwJBi"
      },
      "source": [
        "##**File Handling**"
      ]
    },
    {
      "cell_type": "markdown",
      "metadata": {
        "id": "qPmghSxmRTz5"
      },
      "source": [
        "#**Object Oriented concept in Python**"
      ]
    },
    {
      "cell_type": "markdown",
      "metadata": {
        "id": "j1U0hoWhRcwJ"
      },
      "source": [
        "##**Classes**"
      ]
    },
    {
      "cell_type": "markdown",
      "metadata": {
        "id": "St9XYa_wRfbh"
      },
      "source": [
        "##**Objects**"
      ]
    },
    {
      "cell_type": "markdown",
      "metadata": {
        "id": "9xiW9akFRkD4"
      },
      "source": [
        "##**Method**"
      ]
    },
    {
      "cell_type": "markdown",
      "metadata": {
        "id": "Q7lEbpWHRnIe"
      },
      "source": [
        "##**Inheritance**"
      ]
    },
    {
      "cell_type": "markdown",
      "metadata": {
        "id": "ERMargJBRqMl"
      },
      "source": [
        "##**Polymorphism**"
      ]
    },
    {
      "cell_type": "markdown",
      "metadata": {
        "id": "ddJT9uQYRusp"
      },
      "source": [
        "##**Data Abstraction**"
      ]
    },
    {
      "cell_type": "markdown",
      "metadata": {
        "id": "78DJFWQcRzGa"
      },
      "source": [
        "##**Encapsulation**"
      ]
    },
    {
      "cell_type": "markdown",
      "metadata": {
        "id": "CbASoWbWwTdJ"
      },
      "source": [
        "#**Libraries in Python**"
      ]
    },
    {
      "cell_type": "markdown",
      "metadata": {
        "id": "er_a0DQ1SDOh"
      },
      "source": [
        "##**Numpy**"
      ]
    },
    {
      "cell_type": "markdown",
      "metadata": {
        "id": "tDaD6Bx9SJaz"
      },
      "source": [
        "##**Pandas**"
      ]
    },
    {
      "cell_type": "markdown",
      "metadata": {
        "id": "6tBNTQlSSMGn"
      },
      "source": [
        "##**Matplotlib**"
      ]
    },
    {
      "cell_type": "markdown",
      "metadata": {
        "id": "v2kYa4fiSS2m"
      },
      "source": [
        "##**Seaborn**"
      ]
    },
    {
      "cell_type": "markdown",
      "metadata": {
        "id": "hHT9kfPGSV_B"
      },
      "source": [
        "##**Scipy**"
      ]
    }
  ]
}